{
  "nbformat": 4,
  "nbformat_minor": 0,
  "metadata": {
    "colab": {
      "provenance": []
    },
    "kernelspec": {
      "name": "python3",
      "display_name": "Python 3"
    },
    "language_info": {
      "name": "python"
    }
  },
  "cells": [
    {
      "cell_type": "code",
      "execution_count": 1,
      "metadata": {
        "colab": {
          "base_uri": "https://localhost:8080/"
        },
        "id": "ox5j-p4oJX-I",
        "outputId": "d02997eb-3882-43ef-b1a6-10658b9723b7"
      },
      "outputs": [
        {
          "output_type": "stream",
          "name": "stdout",
          "text": [
            "Optimal Path: A -> B2 -> C4\n"
          ]
        }
      ],
      "source": [
        "def minimax(node, is_maximizing, leaf_values, path):\n",
        "    if node in leaf_values:\n",
        "        return path + [node]\n",
        "\n",
        "    children = tree[node]\n",
        "    best_path = []\n",
        "\n",
        "    if is_maximizing:\n",
        "        best_score = float('-inf')\n",
        "        for child in children:\n",
        "            candidate_path = minimax(child, False, leaf_values, path + [node])\n",
        "            if leaf_values[candidate_path[-1]] > best_score:\n",
        "                best_score = leaf_values[candidate_path[-1]]\n",
        "                best_path = candidate_path\n",
        "    else:\n",
        "        best_score = float('inf')\n",
        "        for child in children:\n",
        "            candidate_path = minimax(child, True, leaf_values, path + [node])\n",
        "            if leaf_values[candidate_path[-1]] < best_score:\n",
        "                best_score = leaf_values[candidate_path[-1]]\n",
        "                best_path = candidate_path\n",
        "\n",
        "    leaf_values[node] = best_score\n",
        "    return best_path\n",
        "\n",
        "\n",
        "tree = {\n",
        "    'A': ['B1', 'B2', 'B3'],\n",
        "    'B1': ['C1', 'C2', 'C3'],\n",
        "    'B2': ['C4', 'C5', 'C6'],\n",
        "    'B3': ['C7', 'C8', 'C9']\n",
        "}\n",
        "\n",
        "leaf_values = {\n",
        "    'C1': 12, 'C2': 10, 'C3': 3,\n",
        "    'C4': 5, 'C5': 8, 'C6': 10,\n",
        "    'C7': 11, 'C8': 2, 'C9': 12\n",
        "}\n",
        "\n",
        "optimal_path = minimax('A', True, leaf_values, [])\n",
        "print(\"Optimal Path:\", \" -> \".join(optimal_path))\n"
      ]
    }
  ]
}
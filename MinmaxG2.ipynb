{
  "nbformat": 4,
  "nbformat_minor": 0,
  "metadata": {
    "colab": {
      "provenance": []
    },
    "kernelspec": {
      "name": "python3",
      "display_name": "Python 3"
    },
    "language_info": {
      "name": "python"
    }
  },
  "cells": [
    {
      "cell_type": "code",
      "execution_count": 2,
      "metadata": {
        "colab": {
          "base_uri": "https://localhost:8080/"
        },
        "id": "ox5j-p4oJX-I",
        "outputId": "3ae1d952-2537-4d42-c91e-6dc78cb0d959"
      },
      "outputs": [
        {
          "output_type": "stream",
          "name": "stdout",
          "text": [
            "Optimal Path: A -> B1 -> C1 -> D2 -> E4\n"
          ]
        }
      ],
      "source": [
        "tree = {\n",
        "    \"A\": [\"B1\", \"B2\"],\n",
        "    \"B1\": [\"C1\", \"C2\"],\n",
        "    \"B2\": [\"C3\", \"C4\"],\n",
        "    \"C1\": [\"D1\", \"D2\"],\n",
        "    \"C2\": [\"D3\", \"D4\"],\n",
        "    \"C3\": [\"D5\", \"D6\"],\n",
        "    \"C4\": [\"D7\", \"D8\"],\n",
        "    \"D1\": [\"E1\", \"E2\"],\n",
        "    \"D2\": [\"E3\", \"E4\"],\n",
        "    \"D3\": [\"E5\", \"E6\"],\n",
        "    \"D4\": [\"E7\", \"E8\"],\n",
        "    \"D5\": [\"E9\", \"E10\"],\n",
        "    \"D6\": [\"E11\", \"E12\"],\n",
        "    \"D7\": [\"E13\", \"E14\"],\n",
        "    \"D8\": [\"E15\", \"E16\"],\n",
        "}\n",
        "\n",
        "leaf_values = {\n",
        "    \"E1\": 5, \"E2\": -1, \"E3\": 4, \"E4\": 3,\n",
        "    \"E5\": -2, \"E6\": -5, \"E7\": 9, \"E8\": 8,\n",
        "    \"E9\": 6, \"E10\": -4, \"E11\": 2, \"E12\": 7,\n",
        "    \"E13\": -3, \"E14\": 0, \"E15\": 1, \"E16\": -6\n",
        "}\n",
        "\n",
        "def minimax(node, is_max):\n",
        "    if node in leaf_values:\n",
        "        return leaf_values[node], [node]\n",
        "\n",
        "    children = tree.get(node, [])\n",
        "    best_path = []\n",
        "\n",
        "    if is_max:\n",
        "        best_value = float('-inf')\n",
        "        for child in children:\n",
        "            value, path = minimax(child, False)\n",
        "            if value > best_value:\n",
        "                best_value = value\n",
        "                best_path = [node] + path\n",
        "    else:\n",
        "        best_value = float('inf')\n",
        "        for child in children:\n",
        "            value, path = minimax(child, True)\n",
        "            if value < best_value:\n",
        "                best_value = value\n",
        "                best_path = [node] + path\n",
        "\n",
        "    return best_value, best_path\n",
        "\n",
        "_, optimal_path = minimax(\"A\", True)\n",
        "print(\"Optimal Path:\", \" -> \".join(optimal_path))\n"
      ]
    }
  ]
}